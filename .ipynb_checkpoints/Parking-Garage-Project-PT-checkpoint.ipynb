{
 "cells": [
  {
   "cell_type": "markdown",
   "metadata": {},
   "source": [
    "# Parking Garage Project\n",
    "\n",
    "Your assignment for today is to create a parking garage class to get more familiar with Object Oriented Programming(OOP). \n",
    "\n",
    "Your parking gargage class should have the following methods:\n",
    "- takeTicket\n",
    "   - This should decrease the amount of tickets available by 1\n",
    "   - This should decrease the amount of parkingSpaces available by 1\n",
    "- payForParking\n",
    "   - Display an input that waits for an amount from the user and store it in a variable\n",
    "   - If the payment variable is not empty then ->  display a message to the user that their ticket has been paid and they have 15mins to leave\n",
    "   - This should update the \"currentTicket\" dictionary key \"paid\" to True\n",
    "- leaveGarage\n",
    "   - If the ticket has been paid, display a message of \"Thank You, have a nice day\"\n",
    "   - If the ticket has not been paid, display an input prompt for payment\n",
    "      - Once paid, display message \"Thank you, have a nice day!\"\n",
    "   - Update parkingSpaces list to increase by 1\n",
    "   - Update tickets list to increase by 1\n",
    "\n",
    "You will need a few attributes as well:\n",
    "- tickets -> list\n",
    "- parkingSpaces -> list\n",
    "- currentTicket -> dictionary"
   ]
  },
  {
   "cell_type": "code",
   "execution_count": null,
   "metadata": {},
   "outputs": [
    {
     "name": "stdout",
     "output_type": "stream",
     "text": [
      "Hello, What would you like to do? Park, pay, leave, or quit?park\n",
      "Please take ticket #\n",
      "1\n",
      "Parking spaces availabe are: [1, 2, 3, 4, 5, 6, 7, 8, 9].\n"
     ]
    }
   ],
   "source": [
    "class Parking_garage():\n",
    "    def __init__(self,is_current_ticket_paid=True):\n",
    "        self.parking_spaces = [1,2,3,4,5,6,7,8,9,10]\n",
    "        self.tickets = [1,2,3,4,5,6,7,8,9,10]\n",
    "        self.is_current_ticket_paid = is_current_ticket_paid\n",
    "    \n",
    "    def takeTicket(self):\n",
    "        number=self.tickets.pop(0)\n",
    "        print(number)\n",
    "        self_parking_spaces=self.parking_spaces.pop()\n",
    "        print(f\"Parking spaces available are: {self.parking_spaces}.\")\n",
    "        \n",
    "        \n",
    "    def payForParking(self):\n",
    "        pass\n",
    "\n",
    "    def leaveGarage(self):\n",
    "        pass\n",
    "\n",
    "class UI():\n",
    "    def __init__(self, person):\n",
    "        self.person = person\n",
    "    \n",
    "    def run_program(self):\n",
    "        while True:\n",
    "            response = input(f\"Hello, What would you like to do? Park, pay, leave, or quit?\")\n",
    "            if response.lower() == 'quit':\n",
    "                print(f\"Hope to see you soon!!\")\n",
    "                break\n",
    "            elif response.lower() == 'park':\n",
    "                print(\"Please take ticket #\")\n",
    "                self.person.takeTicket()\n",
    "           \n",
    "            \n",
    "#Driver Code\n",
    "my_parking = Parking_garage()\n",
    "ui = UI(my_parking)\n",
    "ui.run_program()\n"
   ]
  },
  {
   "cell_type": "code",
   "execution_count": null,
   "metadata": {},
   "outputs": [],
   "source": []
  },
  {
   "cell_type": "code",
   "execution_count": null,
   "metadata": {},
   "outputs": [],
   "source": []
  }
 ],
 "metadata": {
  "kernelspec": {
   "display_name": "Python 3 (ipykernel)",
   "language": "python",
   "name": "python3"
  },
  "language_info": {
   "codemirror_mode": {
    "name": "ipython",
    "version": 3
   },
   "file_extension": ".py",
   "mimetype": "text/x-python",
   "name": "python",
   "nbconvert_exporter": "python",
   "pygments_lexer": "ipython3",
   "version": "3.9.7"
  }
 },
 "nbformat": 4,
 "nbformat_minor": 2
}
